{
 "cells": [
  {
   "cell_type": "code",
   "execution_count": 3,
   "id": "36620918-80ab-474e-9343-f2c1bd82d90c",
   "metadata": {},
   "outputs": [],
   "source": [
    "#PYTHON BASICS VARIABLE"
   ]
  },
  {
   "cell_type": "markdown",
   "id": "894d79e8-d1b6-4d1c-a86c-69612722df38",
   "metadata": {},
   "source": [
    "Question 1"
   ]
  },
  {
   "cell_type": "code",
   "execution_count": 2,
   "id": "85d0ea7b-6612-4a8a-91fc-69e8546d5abf",
   "metadata": {},
   "outputs": [
    {
     "name": "stdout",
     "output_type": "stream",
     "text": [
      "Before Swapping... X = -10 and Y = 20\n",
      "After Swapping... X = 20 and Y = -10\n"
     ]
    }
   ],
   "source": [
    "x = -10\n",
    "\n",
    "y = 20\n",
    "\n",
    "\n",
    "\n",
    "print(f\"Before Swapping... X = {x} and Y = {y}\")\n",
    "\n",
    "\n",
    "\n",
    "x = x + y\n",
    "\n",
    "y = x - y\n",
    "\n",
    "x = x - y\n",
    "\n",
    "\n",
    "\n",
    "print(f\"After Swapping... X = {x} and Y = {y}\")"
   ]
  },
  {
   "cell_type": "markdown",
   "id": "52cf02c9-a7f3-44e1-9be5-90bf84f2ed09",
   "metadata": {},
   "source": [
    "Question 2"
   ]
  },
  {
   "cell_type": "code",
   "execution_count": 5,
   "id": "3965b0db-d613-4515-a74e-82c0f4231a3a",
   "metadata": {},
   "outputs": [
    {
     "name": "stdin",
     "output_type": "stream",
     "text": [
      "Enter Length of the Rectangle:  10\n",
      "Enter Width of the Rectangle:  20\n"
     ]
    },
    {
     "name": "stdout",
     "output_type": "stream",
     "text": [
      "Area of the Rectangle with length as 10.0 and width as 20.0 = 200.0\n"
     ]
    }
   ],
   "source": [
    "l = float(input(\"Enter Length of the Rectangle: \"))\n",
    "\n",
    "wid = float(input(\"Enter Width of the Rectangle: \"))\n",
    "\n",
    "\n",
    "\n",
    "area = l * wid\n",
    "\n",
    "\n",
    "\n",
    "print(f\"Area of the Rectangle with length as {l} and width as {wid} = {area}\")"
   ]
  },
  {
   "cell_type": "markdown",
   "id": "55da9088-f60b-4480-9ae7-025715df1932",
   "metadata": {},
   "source": [
    "Question 3"
   ]
  },
  {
   "cell_type": "code",
   "execution_count": 7,
   "id": "ebe9610a-a454-4b7e-b342-3ef6cf3ca142",
   "metadata": {},
   "outputs": [
    {
     "name": "stdin",
     "output_type": "stream",
     "text": [
      "Enter Temperature in Celsius:  40\n"
     ]
    },
    {
     "name": "stdout",
     "output_type": "stream",
     "text": [
      "Temperature in Celsius '40.0' is equal to '104.0' in Fahrenheits\n"
     ]
    }
   ],
   "source": [
    "cel = float(input(\"Enter Temperature in Celsius: \"))\n",
    "\n",
    "\n",
    "\n",
    "fah = (cel * 1.8) + 32\n",
    "\n",
    "\n",
    "\n",
    "print(f\"Temperature in Celsius '{cel}' is equal to '{fah}' in Fahrenheits\")"
   ]
  },
  {
   "cell_type": "markdown",
   "id": "d6fd60ff-6d2e-4854-b729-a792ac441531",
   "metadata": {},
   "source": [
    " \r\n",
    "\r\n",
    "#STRING BASED QUESTIONS\r\n",
    "\r",
    "Question 11. '''"
   ]
  },
  {
   "cell_type": "code",
   "execution_count": 8,
   "id": "630f2c07-44aa-4c2c-8376-4eb9cdb6d4b2",
   "metadata": {},
   "outputs": [
    {
     "name": "stdin",
     "output_type": "stream",
     "text": [
      "Enter Your String:  hello\n"
     ]
    },
    {
     "name": "stdout",
     "output_type": "stream",
     "text": [
      "Length of the String 'hello' is 5\n"
     ]
    }
   ],
   "source": [
    "'''Q1. '''\n",
    "\n",
    " \n",
    "\n",
    "mystr = input(\"Enter Your String: \")\n",
    "\n",
    "\n",
    "\n",
    "l = len(mystr)\n",
    "\n",
    "\n",
    "\n",
    "print(f\"Length of the String '{mystr}' is {l}\")"
   ]
  },
  {
   "cell_type": "markdown",
   "id": "fd4cfcc7-ea4e-40d2-a62b-d9eaebcead58",
   "metadata": {},
   "source": [
    "Question 2"
   ]
  },
  {
   "cell_type": "code",
   "execution_count": 9,
   "id": "9757aebf-6bbe-446b-ab7b-f8966c25d765",
   "metadata": {},
   "outputs": [
    {
     "name": "stdin",
     "output_type": "stream",
     "text": [
      "Enter Your String:  hello\n"
     ]
    },
    {
     "name": "stdout",
     "output_type": "stream",
     "text": [
      "Count of the Vowels in the String 'hello' is 2 \n"
     ]
    }
   ],
   "source": [
    "mystr = input(\"Enter Your String: \")\n",
    "\n",
    "\n",
    "\n",
    "count = 0\n",
    "\n",
    "\n",
    "\n",
    "for ch in mystr:\n",
    "\n",
    "    if ch.lower() in ('a', 'e', 'i', 'o', 'u'):\n",
    "\n",
    "        count += 1\n",
    "\n",
    "\n",
    "\n",
    "print(f\"Count of the Vowels in the String '{mystr}' is {count} \")"
   ]
  },
  {
   "cell_type": "markdown",
   "id": "1b662fdb-3b04-4d6e-bb82-ea343c70fc95",
   "metadata": {},
   "source": [
    "Question 3"
   ]
  },
  {
   "cell_type": "code",
   "execution_count": 10,
   "id": "92e9c024-c1b0-487a-a21e-1a6b7cb8797c",
   "metadata": {},
   "outputs": [
    {
     "name": "stdin",
     "output_type": "stream",
     "text": [
      "Enter Your String:  hello\n"
     ]
    },
    {
     "name": "stdout",
     "output_type": "stream",
     "text": [
      "Reverse of the given string 'hello' is 'olleh'\n"
     ]
    }
   ],
   "source": [
    "mystr = input(\"Enter Your String: \")\n",
    "\n",
    "\n",
    "\n",
    "rev_str = mystr[::-1]\n",
    "\n",
    "\n",
    "\n",
    "print(f\"Reverse of the given string '{mystr}' is '{rev_str}'\")"
   ]
  },
  {
   "cell_type": "markdown",
   "id": "e5d059db-7635-4e38-b369-700e028ae3fd",
   "metadata": {},
   "source": [
    "Question 4"
   ]
  },
  {
   "cell_type": "code",
   "execution_count": 11,
   "id": "5049fc53-d33e-42b7-b12d-d925790123ef",
   "metadata": {},
   "outputs": [
    {
     "name": "stdin",
     "output_type": "stream",
     "text": [
      "Enter Your String:  hello\n"
     ]
    },
    {
     "name": "stdout",
     "output_type": "stream",
     "text": [
      "Entered String 'hello' is Not a Palindrome\n"
     ]
    }
   ],
   "source": [
    "my_str = input(\"Enter Your String: \")\n",
    "\n",
    "\n",
    "\n",
    "flag = True\n",
    "\n",
    "\n",
    "\n",
    "left, right = 0, len(my_str)-1\n",
    "\n",
    "\n",
    "\n",
    "while left < right:\n",
    "\n",
    "    if my_str[left].lower() != my_str[right].lower():\n",
    "\n",
    "        flag = False\n",
    "\n",
    "        break\n",
    "\n",
    "\n",
    "\n",
    "    left += 1\n",
    "\n",
    "    right -= 1\n",
    "\n",
    "\n",
    "\n",
    "if flag:\n",
    "\n",
    "    print(f\"Entered String '{my_str}' is a Palindrome\")\n",
    "\n",
    "else:\n",
    "\n",
    "    print(f\"Entered String '{my_str}' is Not a Palindrome\")"
   ]
  },
  {
   "cell_type": "markdown",
   "id": "0eb85d1d-b6ac-43bc-9a3a-93a77c2884ab",
   "metadata": {},
   "source": [
    "Question 5"
   ]
  },
  {
   "cell_type": "code",
   "execution_count": 12,
   "id": "5d179377-f297-4f10-9100-801e97fc31f9",
   "metadata": {},
   "outputs": [
    {
     "name": "stdin",
     "output_type": "stream",
     "text": [
      "Enter Your String:  hel               lo\n"
     ]
    },
    {
     "name": "stdout",
     "output_type": "stream",
     "text": [
      "Modified string is 'hello'\n"
     ]
    }
   ],
   "source": [
    "my_str = input(\"Enter Your String: \")\n",
    "\n",
    " \n",
    "\n",
    "new_str = my_str.replace(\" \",\"\")\n",
    "\n",
    " \n",
    "\n",
    "print(f\"Modified string is '{new_str}'\")"
   ]
  },
  {
   "cell_type": "code",
   "execution_count": null,
   "id": "b33276be-fbd4-4325-abd0-5367432d27db",
   "metadata": {},
   "outputs": [],
   "source": []
  }
 ],
 "metadata": {
  "kernelspec": {
   "display_name": "Python 3 (ipykernel)",
   "language": "python",
   "name": "python3"
  },
  "language_info": {
   "codemirror_mode": {
    "name": "ipython",
    "version": 3
   },
   "file_extension": ".py",
   "mimetype": "text/x-python",
   "name": "python",
   "nbconvert_exporter": "python",
   "pygments_lexer": "ipython3",
   "version": "3.11.4"
  }
 },
 "nbformat": 4,
 "nbformat_minor": 5
}
